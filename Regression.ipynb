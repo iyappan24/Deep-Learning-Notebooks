{
 "cells": [
  {
   "cell_type": "markdown",
   "metadata": {},
   "source": [
    "# Regression \n",
    "\n",
    "California Housing Data\n",
    "\n",
    "This data set contains information about all the block groups in California from the 1990 Census. In this sample a block group on average includes 1425.5 individuals living in a geographically compact area. \n",
    "\n",
    "The task is to aproximate the median house value of each block from the values of the rest of the variables. \n",
    "\n",
    " It has been obtained from the LIACC repository. The original page where the data set can be found is: http://www.liaad.up.pt/~ltorgo/Regression/DataSets.html.\n",
    " "
   ]
  },
  {
   "cell_type": "markdown",
   "metadata": {},
   "source": [
    "The Features:\n",
    " \n",
    "* housingMedianAge: continuous. \n",
    "* totalRooms: continuous. \n",
    "* totalBedrooms: continuous. \n",
    "* population: continuous. \n",
    "* households: continuous. \n",
    "* medianIncome: continuous. \n",
    "* medianHouseValue: continuous. "
   ]
  },
  {
   "cell_type": "code",
   "execution_count": 156,
   "metadata": {},
   "outputs": [],
   "source": [
    "import pandas as pd\n",
    "import tensorflow as tf\n",
    "import numpy as np\n",
    "import matplotlib.pyplot as plt\n",
    "%matplotlib inline"
   ]
  },
  {
   "cell_type": "code",
   "execution_count": 157,
   "metadata": {
    "collapsed": true
   },
   "outputs": [],
   "source": [
    "housing = pd.read_csv(\"cal_housing_clean.csv\")"
   ]
  },
  {
   "cell_type": "code",
   "execution_count": 158,
   "metadata": {},
   "outputs": [
    {
     "data": {
      "text/html": [
       "<div>\n",
       "<style>\n",
       "    .dataframe thead tr:only-child th {\n",
       "        text-align: right;\n",
       "    }\n",
       "\n",
       "    .dataframe thead th {\n",
       "        text-align: left;\n",
       "    }\n",
       "\n",
       "    .dataframe tbody tr th {\n",
       "        vertical-align: top;\n",
       "    }\n",
       "</style>\n",
       "<table border=\"1\" class=\"dataframe\">\n",
       "  <thead>\n",
       "    <tr style=\"text-align: right;\">\n",
       "      <th></th>\n",
       "      <th>housingMedianAge</th>\n",
       "      <th>totalRooms</th>\n",
       "      <th>totalBedrooms</th>\n",
       "      <th>population</th>\n",
       "      <th>households</th>\n",
       "      <th>medianIncome</th>\n",
       "      <th>medianHouseValue</th>\n",
       "    </tr>\n",
       "  </thead>\n",
       "  <tbody>\n",
       "    <tr>\n",
       "      <th>0</th>\n",
       "      <td>41.0</td>\n",
       "      <td>880.0</td>\n",
       "      <td>129.0</td>\n",
       "      <td>322.0</td>\n",
       "      <td>126.0</td>\n",
       "      <td>8.3252</td>\n",
       "      <td>452600.0</td>\n",
       "    </tr>\n",
       "    <tr>\n",
       "      <th>1</th>\n",
       "      <td>21.0</td>\n",
       "      <td>7099.0</td>\n",
       "      <td>1106.0</td>\n",
       "      <td>2401.0</td>\n",
       "      <td>1138.0</td>\n",
       "      <td>8.3014</td>\n",
       "      <td>358500.0</td>\n",
       "    </tr>\n",
       "    <tr>\n",
       "      <th>2</th>\n",
       "      <td>52.0</td>\n",
       "      <td>1467.0</td>\n",
       "      <td>190.0</td>\n",
       "      <td>496.0</td>\n",
       "      <td>177.0</td>\n",
       "      <td>7.2574</td>\n",
       "      <td>352100.0</td>\n",
       "    </tr>\n",
       "    <tr>\n",
       "      <th>3</th>\n",
       "      <td>52.0</td>\n",
       "      <td>1274.0</td>\n",
       "      <td>235.0</td>\n",
       "      <td>558.0</td>\n",
       "      <td>219.0</td>\n",
       "      <td>5.6431</td>\n",
       "      <td>341300.0</td>\n",
       "    </tr>\n",
       "    <tr>\n",
       "      <th>4</th>\n",
       "      <td>52.0</td>\n",
       "      <td>1627.0</td>\n",
       "      <td>280.0</td>\n",
       "      <td>565.0</td>\n",
       "      <td>259.0</td>\n",
       "      <td>3.8462</td>\n",
       "      <td>342200.0</td>\n",
       "    </tr>\n",
       "  </tbody>\n",
       "</table>\n",
       "</div>"
      ],
      "text/plain": [
       "   housingMedianAge  totalRooms  totalBedrooms  population  households  \\\n",
       "0              41.0       880.0          129.0       322.0       126.0   \n",
       "1              21.0      7099.0         1106.0      2401.0      1138.0   \n",
       "2              52.0      1467.0          190.0       496.0       177.0   \n",
       "3              52.0      1274.0          235.0       558.0       219.0   \n",
       "4              52.0      1627.0          280.0       565.0       259.0   \n",
       "\n",
       "   medianIncome  medianHouseValue  \n",
       "0        8.3252          452600.0  \n",
       "1        8.3014          358500.0  \n",
       "2        7.2574          352100.0  \n",
       "3        5.6431          341300.0  \n",
       "4        3.8462          342200.0  "
      ]
     },
     "execution_count": 158,
     "metadata": {},
     "output_type": "execute_result"
    }
   ],
   "source": [
    "housing.head()"
   ]
  },
  {
   "cell_type": "code",
   "execution_count": 159,
   "metadata": {},
   "outputs": [
    {
     "data": {
      "text/html": [
       "<div>\n",
       "<style>\n",
       "    .dataframe thead tr:only-child th {\n",
       "        text-align: right;\n",
       "    }\n",
       "\n",
       "    .dataframe thead th {\n",
       "        text-align: left;\n",
       "    }\n",
       "\n",
       "    .dataframe tbody tr th {\n",
       "        vertical-align: top;\n",
       "    }\n",
       "</style>\n",
       "<table border=\"1\" class=\"dataframe\">\n",
       "  <thead>\n",
       "    <tr style=\"text-align: right;\">\n",
       "      <th></th>\n",
       "      <th>count</th>\n",
       "      <th>mean</th>\n",
       "      <th>std</th>\n",
       "      <th>min</th>\n",
       "      <th>25%</th>\n",
       "      <th>50%</th>\n",
       "      <th>75%</th>\n",
       "      <th>max</th>\n",
       "    </tr>\n",
       "  </thead>\n",
       "  <tbody>\n",
       "    <tr>\n",
       "      <th>housingMedianAge</th>\n",
       "      <td>20640.0</td>\n",
       "      <td>28.639486</td>\n",
       "      <td>12.585558</td>\n",
       "      <td>1.0000</td>\n",
       "      <td>18.0000</td>\n",
       "      <td>29.0000</td>\n",
       "      <td>37.00000</td>\n",
       "      <td>52.0000</td>\n",
       "    </tr>\n",
       "    <tr>\n",
       "      <th>totalRooms</th>\n",
       "      <td>20640.0</td>\n",
       "      <td>2635.763081</td>\n",
       "      <td>2181.615252</td>\n",
       "      <td>2.0000</td>\n",
       "      <td>1447.7500</td>\n",
       "      <td>2127.0000</td>\n",
       "      <td>3148.00000</td>\n",
       "      <td>39320.0000</td>\n",
       "    </tr>\n",
       "    <tr>\n",
       "      <th>totalBedrooms</th>\n",
       "      <td>20640.0</td>\n",
       "      <td>537.898014</td>\n",
       "      <td>421.247906</td>\n",
       "      <td>1.0000</td>\n",
       "      <td>295.0000</td>\n",
       "      <td>435.0000</td>\n",
       "      <td>647.00000</td>\n",
       "      <td>6445.0000</td>\n",
       "    </tr>\n",
       "    <tr>\n",
       "      <th>population</th>\n",
       "      <td>20640.0</td>\n",
       "      <td>1425.476744</td>\n",
       "      <td>1132.462122</td>\n",
       "      <td>3.0000</td>\n",
       "      <td>787.0000</td>\n",
       "      <td>1166.0000</td>\n",
       "      <td>1725.00000</td>\n",
       "      <td>35682.0000</td>\n",
       "    </tr>\n",
       "    <tr>\n",
       "      <th>households</th>\n",
       "      <td>20640.0</td>\n",
       "      <td>499.539680</td>\n",
       "      <td>382.329753</td>\n",
       "      <td>1.0000</td>\n",
       "      <td>280.0000</td>\n",
       "      <td>409.0000</td>\n",
       "      <td>605.00000</td>\n",
       "      <td>6082.0000</td>\n",
       "    </tr>\n",
       "    <tr>\n",
       "      <th>medianIncome</th>\n",
       "      <td>20640.0</td>\n",
       "      <td>3.870671</td>\n",
       "      <td>1.899822</td>\n",
       "      <td>0.4999</td>\n",
       "      <td>2.5634</td>\n",
       "      <td>3.5348</td>\n",
       "      <td>4.74325</td>\n",
       "      <td>15.0001</td>\n",
       "    </tr>\n",
       "    <tr>\n",
       "      <th>medianHouseValue</th>\n",
       "      <td>20640.0</td>\n",
       "      <td>206855.816909</td>\n",
       "      <td>115395.615874</td>\n",
       "      <td>14999.0000</td>\n",
       "      <td>119600.0000</td>\n",
       "      <td>179700.0000</td>\n",
       "      <td>264725.00000</td>\n",
       "      <td>500001.0000</td>\n",
       "    </tr>\n",
       "  </tbody>\n",
       "</table>\n",
       "</div>"
      ],
      "text/plain": [
       "                    count           mean            std         min  \\\n",
       "housingMedianAge  20640.0      28.639486      12.585558      1.0000   \n",
       "totalRooms        20640.0    2635.763081    2181.615252      2.0000   \n",
       "totalBedrooms     20640.0     537.898014     421.247906      1.0000   \n",
       "population        20640.0    1425.476744    1132.462122      3.0000   \n",
       "households        20640.0     499.539680     382.329753      1.0000   \n",
       "medianIncome      20640.0       3.870671       1.899822      0.4999   \n",
       "medianHouseValue  20640.0  206855.816909  115395.615874  14999.0000   \n",
       "\n",
       "                          25%          50%           75%          max  \n",
       "housingMedianAge      18.0000      29.0000      37.00000      52.0000  \n",
       "totalRooms          1447.7500    2127.0000    3148.00000   39320.0000  \n",
       "totalBedrooms        295.0000     435.0000     647.00000    6445.0000  \n",
       "population           787.0000    1166.0000    1725.00000   35682.0000  \n",
       "households           280.0000     409.0000     605.00000    6082.0000  \n",
       "medianIncome           2.5634       3.5348       4.74325      15.0001  \n",
       "medianHouseValue  119600.0000  179700.0000  264725.00000  500001.0000  "
      ]
     },
     "execution_count": 159,
     "metadata": {},
     "output_type": "execute_result"
    }
   ],
   "source": [
    "housing.describe().transpose()"
   ]
  },
  {
   "cell_type": "code",
   "execution_count": 160,
   "metadata": {
    "collapsed": true
   },
   "outputs": [],
   "source": [
    "x_data = housing.drop(['medianHouseValue'],axis=1)"
   ]
  },
  {
   "cell_type": "code",
   "execution_count": 161,
   "metadata": {
    "collapsed": true
   },
   "outputs": [],
   "source": [
    "y_val = housing['medianHouseValue']"
   ]
  },
  {
   "cell_type": "code",
   "execution_count": 162,
   "metadata": {
    "collapsed": true
   },
   "outputs": [],
   "source": [
    "from sklearn.model_selection import train_test_split"
   ]
  },
  {
   "cell_type": "code",
   "execution_count": 163,
   "metadata": {
    "collapsed": true
   },
   "outputs": [],
   "source": [
    "X_train, X_test, Y_train, Y_test = train_test_split(x_data,y_val,test_size=0.3,random_state=101)"
   ]
  },
  {
   "cell_type": "markdown",
   "metadata": {},
   "source": [
    "### Scale the Feature Data\n",
    "\n",
    "** Use sklearn preprocessing to create a MinMaxScaler for the feature data. Fit this scaler only to the training data. Then use it to transform X_test and X_train. Then use the scaled X_test and X_train along with pd.Dataframe to re-create two dataframes of scaled data.**"
   ]
  },
  {
   "cell_type": "code",
   "execution_count": 164,
   "metadata": {
    "collapsed": true
   },
   "outputs": [],
   "source": [
    "from sklearn.preprocessing import MinMaxScaler\n",
    "scaler = MinMaxScaler()"
   ]
  },
  {
   "cell_type": "code",
   "execution_count": 165,
   "metadata": {},
   "outputs": [
    {
     "data": {
      "text/plain": [
       "MinMaxScaler(copy=True, feature_range=(0, 1))"
      ]
     },
     "execution_count": 165,
     "metadata": {},
     "output_type": "execute_result"
    }
   ],
   "source": [
    "scaler.fit(X_train)"
   ]
  },
  {
   "cell_type": "code",
   "execution_count": 166,
   "metadata": {
    "collapsed": true
   },
   "outputs": [],
   "source": [
    "X_train = scaler.transform(X_train)\n",
    "X_test = scaler.transform(X_test)"
   ]
  },
  {
   "cell_type": "code",
   "execution_count": 167,
   "metadata": {},
   "outputs": [
    {
     "data": {
      "text/plain": [
       "(14448, 6)"
      ]
     },
     "execution_count": 167,
     "metadata": {},
     "output_type": "execute_result"
    }
   ],
   "source": [
    "X_train.shape"
   ]
  },
  {
   "cell_type": "code",
   "execution_count": 168,
   "metadata": {
    "collapsed": true
   },
   "outputs": [],
   "source": [
    "Y_train = Y_train.values.reshape(len(Y_train),1)"
   ]
  },
  {
   "cell_type": "markdown",
   "metadata": {},
   "source": [
    "### TENSORFLOW CODE"
   ]
  },
  {
   "cell_type": "code",
   "execution_count": 197,
   "metadata": {},
   "outputs": [],
   "source": [
    "batch_size = 10 \n",
    "epochs = 100\n",
    "x_train = tf.placeholder(tf.float64,[batch_size,6],name='X_t')\n",
    "y_train = tf.placeholder(tf.float64,[batch_size,1],name = 'Y_t')\n",
    "W = tf.Variable(np.random.uniform(low=2.0,high=4.0,size=6).reshape(6,1),name='weight')\n",
    "\n",
    "y_pred = tf.matmul(x_train,W,name=\"Predictions\")\n",
    "error = y_train - y_pred\n",
    "mse = tf.reduce_mean(tf.square(error),name= 'mse')\n",
    "rmse = tf.sqrt(mse,name = 'rmse')\n",
    "optimizer = tf.train.GradientDescentOptimizer(learning_rate=0.001)\n",
    "train = optimizer.minimize(rmse)\n",
    "\n",
    "init = tf.global_variables_initializer()"
   ]
  },
  {
   "cell_type": "code",
   "execution_count": 198,
   "metadata": {},
   "outputs": [
    {
     "name": "stdout",
     "output_type": "stream",
     "text": [
      "[array([[3.51141687],\n",
      "       [2.54692132],\n",
      "       [2.28577998],\n",
      "       [2.98831399],\n",
      "       [2.18895302],\n",
      "       [2.61548222]])]\n"
     ]
    }
   ],
   "source": [
    "with tf.Session() as sess:\n",
    "    init.run()\n",
    "    print(sess.run([W]))"
   ]
  },
  {
   "cell_type": "code",
   "execution_count": 199,
   "metadata": {},
   "outputs": [
    {
     "name": "stdout",
     "output_type": "stream",
     "text": [
      "Epoch : 0 RMSE: 231098.67036848096\n",
      "Epoch : 1 RMSE: 232857.461405611\n",
      "Epoch : 2 RMSE: 232248.46032622518\n",
      "Epoch : 3 RMSE: 232518.53235358634\n",
      "Epoch : 4 RMSE: 231335.36252711256\n",
      "Epoch : 5 RMSE: 231631.60823987453\n",
      "Epoch : 6 RMSE: 233443.10968537666\n",
      "Epoch : 7 RMSE: 233363.72304824446\n",
      "Epoch : 8 RMSE: 233199.20378607637\n",
      "Epoch : 9 RMSE: 233687.89135448853\n",
      "Epoch : 10 RMSE: 231389.5748649552\n",
      "Epoch : 11 RMSE: 234855.5810910273\n",
      "Epoch : 12 RMSE: 232518.6425215383\n",
      "Epoch : 13 RMSE: 230684.62705894187\n",
      "Epoch : 14 RMSE: 233064.0843992185\n",
      "Epoch : 15 RMSE: 233492.21673641892\n",
      "Epoch : 16 RMSE: 230136.10256774435\n",
      "Epoch : 17 RMSE: 234889.54063673387\n",
      "Epoch : 18 RMSE: 230231.32829656132\n",
      "Epoch : 19 RMSE: 231621.9281502528\n",
      "Epoch : 20 RMSE: 234252.63662236682\n",
      "Epoch : 21 RMSE: 232077.99870063117\n",
      "Epoch : 22 RMSE: 232672.6393525855\n",
      "Epoch : 23 RMSE: 232581.60066728192\n",
      "Epoch : 24 RMSE: 230636.18382747873\n",
      "Epoch : 25 RMSE: 233935.35763639238\n",
      "Epoch : 26 RMSE: 233096.18392144155\n",
      "Epoch : 27 RMSE: 233894.6410730563\n",
      "Epoch : 28 RMSE: 231642.62854225127\n",
      "Epoch : 29 RMSE: 234533.7662677765\n",
      "Epoch : 30 RMSE: 233221.73285159367\n",
      "Epoch : 31 RMSE: 231654.99207960017\n",
      "Epoch : 32 RMSE: 232002.8484501494\n",
      "Epoch : 33 RMSE: 232573.99085868135\n",
      "Epoch : 34 RMSE: 233171.8847909856\n",
      "Epoch : 35 RMSE: 231958.67403783256\n",
      "Epoch : 36 RMSE: 233641.21642121655\n",
      "Epoch : 37 RMSE: 230982.1265345903\n",
      "Epoch : 38 RMSE: 232415.9273834917\n",
      "Epoch : 39 RMSE: 232259.3732812238\n",
      "Epoch : 40 RMSE: 232424.0659872503\n",
      "Epoch : 41 RMSE: 231307.87398828875\n",
      "Epoch : 42 RMSE: 231000.1426388192\n",
      "Epoch : 43 RMSE: 232935.9423220196\n",
      "Epoch : 44 RMSE: 233844.0581903654\n",
      "Epoch : 45 RMSE: 231669.75750593483\n",
      "Epoch : 46 RMSE: 232643.58669520315\n",
      "Epoch : 47 RMSE: 233770.43117764196\n",
      "Epoch : 48 RMSE: 233271.58294388783\n",
      "Epoch : 49 RMSE: 233368.61006507592\n",
      "Epoch : 50 RMSE: 232877.13880856772\n",
      "Epoch : 51 RMSE: 232932.78178802066\n",
      "Epoch : 52 RMSE: 233180.1336881708\n",
      "Epoch : 53 RMSE: 235129.9524594899\n",
      "Epoch : 54 RMSE: 234365.53222658165\n",
      "Epoch : 55 RMSE: 233656.10638156594\n",
      "Epoch : 56 RMSE: 233793.07384978037\n",
      "Epoch : 57 RMSE: 233620.64673513026\n",
      "Epoch : 58 RMSE: 232150.74432874031\n",
      "Epoch : 59 RMSE: 232021.63962968244\n",
      "Epoch : 60 RMSE: 233227.58854100452\n",
      "Epoch : 61 RMSE: 231419.85475642892\n",
      "Epoch : 62 RMSE: 231592.11268703965\n",
      "Epoch : 63 RMSE: 233274.48983572223\n",
      "Epoch : 64 RMSE: 231159.94182360993\n",
      "Epoch : 65 RMSE: 234094.5215161697\n",
      "Epoch : 66 RMSE: 233889.80839360898\n",
      "Epoch : 67 RMSE: 233233.93659757642\n",
      "Epoch : 68 RMSE: 230753.3188048463\n",
      "Epoch : 69 RMSE: 233975.63860272037\n",
      "Epoch : 70 RMSE: 231397.8121134004\n",
      "Epoch : 71 RMSE: 230822.92619410442\n",
      "Epoch : 72 RMSE: 232634.86531374263\n",
      "Epoch : 73 RMSE: 231015.13933683507\n",
      "Epoch : 74 RMSE: 232927.63373856447\n",
      "Epoch : 75 RMSE: 232732.92666130664\n",
      "Epoch : 76 RMSE: 231307.41073461284\n",
      "Epoch : 77 RMSE: 231893.11708478178\n",
      "Epoch : 78 RMSE: 233410.0517892509\n",
      "Epoch : 79 RMSE: 230906.39095803353\n",
      "Epoch : 80 RMSE: 230896.4057079217\n",
      "Epoch : 81 RMSE: 232197.49128757266\n",
      "Epoch : 82 RMSE: 234349.179148156\n",
      "Epoch : 83 RMSE: 232452.90060829595\n",
      "Epoch : 84 RMSE: 232152.5445904657\n",
      "Epoch : 85 RMSE: 231960.4238926921\n",
      "Epoch : 86 RMSE: 232081.48749847966\n",
      "Epoch : 87 RMSE: 231978.44040570653\n",
      "Epoch : 88 RMSE: 234534.0954787674\n",
      "Epoch : 89 RMSE: 231682.11460413213\n",
      "Epoch : 90 RMSE: 231999.86966467943\n",
      "Epoch : 91 RMSE: 234209.93968225954\n",
      "Epoch : 92 RMSE: 232264.44954774517\n",
      "Epoch : 93 RMSE: 232851.10620281784\n",
      "Epoch : 94 RMSE: 233666.5173590945\n",
      "Epoch : 95 RMSE: 234175.15894864983\n",
      "Epoch : 96 RMSE: 232583.62944527977\n",
      "Epoch : 97 RMSE: 231546.30890424552\n",
      "Epoch : 98 RMSE: 231575.19121983883\n",
      "Epoch : 99 RMSE: 231037.75988573625\n"
     ]
    }
   ],
   "source": [
    "with tf.Session() as sess:\n",
    "    init.run()\n",
    "    \n",
    "    batches = int(len(X_train)/10)\n",
    "    \n",
    "    for k in range(epochs):\n",
    "        \n",
    "        error_min = []\n",
    "        \n",
    "        for i in range(batches):\n",
    "            rand_int =  np.random.randint(len(X_train),size=batch_size)\n",
    "            feed = {x_train : X_train[rand_int],y_train : Y_train[rand_int]}\n",
    "            sess.run(train,feed_dict=feed)\n",
    "            error_min.append(rmse.eval(feed))\n",
    "            \n",
    "        print(\"Epoch :\",k,\"RMSE:\", np.mean(np.array(error_min)))\n",
    "                                    \n",
    "    final_w = sess.run([W])                             "
   ]
  },
  {
   "cell_type": "code",
   "execution_count": 200,
   "metadata": {},
   "outputs": [
    {
     "data": {
      "text/plain": [
       "[array([[74.59213695],\n",
       "        [11.63688954],\n",
       "        [13.22877865],\n",
       "        [ 9.36250524],\n",
       "        [13.02266709],\n",
       "        [37.97738893]])]"
      ]
     },
     "execution_count": 200,
     "metadata": {},
     "output_type": "execute_result"
    }
   ],
   "source": [
    "final_w"
   ]
  },
  {
   "cell_type": "code",
   "execution_count": 201,
   "metadata": {},
   "outputs": [],
   "source": [
    "final_pred = np.matmul(X_test,final_w[0])"
   ]
  },
  {
   "cell_type": "code",
   "execution_count": 202,
   "metadata": {},
   "outputs": [],
   "source": [
    "from sklearn.metrics import mean_squared_error"
   ]
  },
  {
   "cell_type": "code",
   "execution_count": 213,
   "metadata": {},
   "outputs": [
    {
     "name": "stdout",
     "output_type": "stream",
     "text": [
      "237976.90401488342\n"
     ]
    }
   ],
   "source": [
    "print(np.sqrt(mean_squared_error(final_pred,Y_test)))"
   ]
  }
 ],
 "metadata": {
  "kernelspec": {
   "display_name": "Python 3",
   "language": "python",
   "name": "python3"
  },
  "language_info": {
   "codemirror_mode": {
    "name": "ipython",
    "version": 3
   },
   "file_extension": ".py",
   "mimetype": "text/x-python",
   "name": "python",
   "nbconvert_exporter": "python",
   "pygments_lexer": "ipython3",
   "version": "3.5.4"
  }
 },
 "nbformat": 4,
 "nbformat_minor": 2
}
