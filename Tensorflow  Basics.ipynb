{
 "cells": [
  {
   "cell_type": "markdown",
   "metadata": {},
   "source": [
    "## TENSORFLOW BASICS"
   ]
  },
  {
   "cell_type": "code",
   "execution_count": 1,
   "metadata": {
    "collapsed": true
   },
   "outputs": [],
   "source": [
    "import numpy as np\n",
    "import tensorflow as tf"
   ]
  },
  {
   "cell_type": "markdown",
   "metadata": {},
   "source": [
    "We will be going through the basics of tensorflow. <br>\n",
    "This notebook will cover the following concepts:\n",
    "1. Constants ,Variables , Placeholders , Operations \n",
    "2. Performing algebaric expressions using Tensorflow\n",
    "3. Matrix multiplications, Sessions and Lifecycle of Nodes"
   ]
  },
  {
   "cell_type": "markdown",
   "metadata": {},
   "source": [
    "### CONSTANTS"
   ]
  },
  {
   "cell_type": "code",
   "execution_count": 2,
   "metadata": {},
   "outputs": [
    {
     "name": "stdout",
     "output_type": "stream",
     "text": [
      "<class 'tensorflow.python.framework.ops.Tensor'>\n"
     ]
    }
   ],
   "source": [
    "hello = tf.constant(\"Hello\")\n",
    "world = tf.constant(\"World\")\n",
    "print(type(hello))"
   ]
  },
  {
   "cell_type": "code",
   "execution_count": 3,
   "metadata": {},
   "outputs": [
    {
     "name": "stdout",
     "output_type": "stream",
     "text": [
      "Tensor(\"Const:0\", shape=(), dtype=string)\n"
     ]
    }
   ],
   "source": [
    "print(hello)"
   ]
  },
  {
   "cell_type": "code",
   "execution_count": 4,
   "metadata": {},
   "outputs": [
    {
     "name": "stdout",
     "output_type": "stream",
     "text": [
      "Tensor(\"Const_2:0\", shape=(), dtype=int32)\n"
     ]
    }
   ],
   "source": [
    "two = tf.constant(2)\n",
    "print(two)"
   ]
  },
  {
   "cell_type": "code",
   "execution_count": 5,
   "metadata": {},
   "outputs": [
    {
     "name": "stdout",
     "output_type": "stream",
     "text": [
      "Tensor(\"Const_3:0\", shape=(), dtype=float32)\n"
     ]
    }
   ],
   "source": [
    "f_value = tf.constant(3.4)\n",
    "print(f_value)"
   ]
  },
  {
   "cell_type": "markdown",
   "metadata": {},
   "source": [
    "### VARIABLES  & EXPRESSIONS"
   ]
  },
  {
   "cell_type": "markdown",
   "metadata": {},
   "source": [
    "Lets try to perform an algebaric operation: <br>\n",
    "Lets say we have a function :<br> <br>\n",
    "             ** f(x,y)** = $x^{3}y^{2}$ + $y^{2}$ + 2xy + c\n",
    "<br> where ** x = 5 , y = 7 , c = 2 **\n",
    "\n",
    "We will perform this operation using tensorflow's variables and constants"
   ]
  },
  {
   "cell_type": "code",
   "execution_count": 9,
   "metadata": {},
   "outputs": [
    {
     "name": "stdout",
     "output_type": "stream",
     "text": [
      "Tensor(\"add_11:0\", shape=(), dtype=int32)\n"
     ]
    }
   ],
   "source": [
    "x = tf.Variable(5,name= \"x\")\n",
    "y = tf.Variable(7, name = \"y\")\n",
    "c = tf.constant(2)\n",
    "\n",
    "\"Here we are definning the function F: Note that the computation is not done yet.\"\n",
    "\"It just creates a Computational Graph which can be executed under sessions\"\n",
    "\n",
    "f = x*x*x*y*y + y*y + 2*x*y + c\n",
    "print(f)"
   ]
  },
  {
   "cell_type": "code",
   "execution_count": 10,
   "metadata": {},
   "outputs": [
    {
     "data": {
      "text/plain": [
       "tensorflow.python.ops.variables.Variable"
      ]
     },
     "execution_count": 10,
     "metadata": {},
     "output_type": "execute_result"
    }
   ],
   "source": [
    "type(x) #note the class is a variable class"
   ]
  },
  {
   "cell_type": "code",
   "execution_count": 12,
   "metadata": {},
   "outputs": [
    {
     "data": {
      "text/plain": [
       "tensorflow.python.framework.ops.Tensor"
      ]
     },
     "execution_count": 12,
     "metadata": {},
     "output_type": "execute_result"
    }
   ],
   "source": [
    "type(c)"
   ]
  },
  {
   "cell_type": "code",
   "execution_count": 13,
   "metadata": {},
   "outputs": [
    {
     "name": "stdout",
     "output_type": "stream",
     "text": [
      "6246\n"
     ]
    }
   ],
   "source": [
    "\"In order to run the expression we have to evaluate the expression within a session object of the tensorflow.\"\n",
    "\"Lets see how to do it\"\n",
    "\n",
    "sess = tf.Session() #starting the session\n",
    "sess.run(x.initializer) #intializing the variables\n",
    "sess.run(y.initializer) \n",
    "result = sess.run(f) #running the expression to evaluate\n",
    "print(result)\n",
    "sess.close() #closing the session "
   ]
  },
  {
   "cell_type": "code",
   "execution_count": 15,
   "metadata": {},
   "outputs": [
    {
     "name": "stdout",
     "output_type": "stream",
     "text": [
      "6246\n"
     ]
    }
   ],
   "source": [
    "\"There are other ways to do things: Everytime you won't be wanting to intialize a session or variable\"\n",
    "\n",
    "\"Intializing all the variables defined in one go\"\n",
    "init= tf.global_variables_initializer() \n",
    "\n",
    "with tf.Session() as sess:\n",
    "    init.run()\n",
    "    result = f.eval()\n",
    "print(result)"
   ]
  },
  {
   "cell_type": "markdown",
   "metadata": {},
   "source": [
    "The ** Global Variables intializer ** doesn not initialize all the variables when called. It Creates a node in the \n",
    "** GRAPH ** (The F function) that will intialize all the variables during the function call **init.run()**"
   ]
  },
  {
   "cell_type": "code",
   "execution_count": 16,
   "metadata": {},
   "outputs": [
    {
     "data": {
      "text/plain": [
       "tensorflow.python.framework.ops.Tensor"
      ]
     },
     "execution_count": 16,
     "metadata": {},
     "output_type": "execute_result"
    }
   ],
   "source": [
    "type(f) #computational graph "
   ]
  },
  {
   "cell_type": "code",
   "execution_count": 18,
   "metadata": {},
   "outputs": [],
   "source": [
    "w = tf.constant(5)\n",
    "x = w + 7\n",
    "y = x / 5\n",
    "z = x ** 2"
   ]
  },
  {
   "cell_type": "code",
   "execution_count": 19,
   "metadata": {},
   "outputs": [
    {
     "name": "stdout",
     "output_type": "stream",
     "text": [
      "2.4\n",
      "144\n"
     ]
    }
   ],
   "source": [
    "with tf.Session():\n",
    "    print(y.eval())\n",
    "    print(z.eval())"
   ]
  },
  {
   "cell_type": "markdown",
   "metadata": {},
   "source": [
    "If you see the expression of Y and Z depends on the Expression of X which is further dependent on the constant W. <br>\n",
    "Tensorflow automatically takes care of the dependency evaluation. Also notice that value of X is not reused. "
   ]
  },
  {
   "cell_type": "code",
   "execution_count": null,
   "metadata": {
    "collapsed": true
   },
   "outputs": [],
   "source": []
  }
 ],
 "metadata": {
  "kernelspec": {
   "display_name": "Python 3",
   "language": "python",
   "name": "python3"
  },
  "language_info": {
   "codemirror_mode": {
    "name": "ipython",
    "version": 3
   },
   "file_extension": ".py",
   "mimetype": "text/x-python",
   "name": "python",
   "nbconvert_exporter": "python",
   "pygments_lexer": "ipython3",
   "version": "3.5.4"
  }
 },
 "nbformat": 4,
 "nbformat_minor": 2
}
